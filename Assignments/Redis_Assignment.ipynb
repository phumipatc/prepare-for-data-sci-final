{
 "cells": [
  {
   "cell_type": "markdown",
   "metadata": {},
   "source": [
    "# Redis Assignment\n",
    "In this assignment, you will access a redis server and user redis commands to find out answers.  The redis server is at *lab.aimet.tech*.  You also have to authenticate as username 'hw' with password 'hw'.  \n",
    "\n",
    "The populated data in the redis database is similar to the example \"simple social network\" in the class.  Answer all questions in mycourseville assignment.\n",
    "\n",
    "Note that this user can only use \"read\" commands e.g. \"get\", \"lrange\", \"llen\", \"scan\", etc."
   ]
  },
  {
   "cell_type": "code",
   "execution_count": null,
   "metadata": {},
   "outputs": [],
   "source": [
    "# we will have to install redis in colab\n",
    "import sys\n",
    "IN_COLAB = 'google.colab' in sys.modules\n",
    "\n",
    "!pip install redis"
   ]
  },
  {
   "cell_type": "code",
   "execution_count": 2,
   "metadata": {},
   "outputs": [],
   "source": [
    "import redis"
   ]
  },
  {
   "cell_type": "code",
   "execution_count": 3,
   "metadata": {},
   "outputs": [
    {
     "name": "stdout",
     "output_type": "stream",
     "text": [
      "['user:547:follows', 'username:shamefulOil5', 'user:666:follows', 'user:519:name', 'user:682:follows', 'username:humorousChough1', 'user:687:follows', 'username:finickyFalcon7', 'username:blissfulDoves7', 'username:stressedThrush1', 'user:620:follows', 'user:599:followed_by', 'user:554:name', 'user:616:followed_by', 'user:543:followed_by', 'user:584:followed_by', 'user:590:follows', 'user:686:followed_by', 'user:566:followed_by', 'user:612:name', 'user:594:followed_by', 'username:anxiousCrackers3', 'username:enragedSausage0', 'user:512:follows', 'user:648:name', 'user:621:follows', 'username:similarSeagull7', 'username:tautOrange5', 'user:568:name', 'username:lovesickOrange5', 'user:539:name', 'user:563:followed_by', 'user:557:name', 'user:592:name', 'user:695:follows', 'user:578:follows', 'user:619:name', 'user:696:follows', 'user:641:name', 'user:688:follows', 'user:589:name', 'user:522:followed_by', 'username:superiorToucan3', 'user:504:follows', 'user:700:followed_by', 'username:boredSeafowl3', 'user:529:follows', 'user:632:follows', 'user:560:follows', 'user:628:follows', 'user:697:name', 'user:606:followed_by', 'user:562:followed_by', 'user:544:name', 'user:552:name', 'user:537:followed_by', 'user:545:follows', 'username:curiousOwl7', 'user:555:followed_by', 'user:597:followed_by', 'user:674:follows', 'user:517:follows', 'user:671:name', 'user:508:follows', 'user:596:followed_by', 'user:692:name', 'user:535:followed_by', 'username:holisticLion7', 'user:570:name', 'user:664:name', 'user:681:followed_by', 'user:514:followed_by', 'user:653:name', 'user:584:follows', 'username:innocentHyena5', 'user:511:follows', 'user:509:followed_by', 'user:670:name', 'username:chicRhino1', 'user:507:name', 'user:680:follows', 'user:520:followed_by', 'user:625:follows', 'username:spiritedPretzels3', 'username:wrathfulClam4', 'user:549:follows', 'user:515:follows', 'username:eagerGelding5', 'user:619:followed_by', 'user:595:followed_by', 'user:530:name', 'user:525:followed_by', 'username:peacefulOtter5', 'username:sugarySalt6', 'username:thriftyChamois8', 'user:540:follows', 'username:euphoricCod0', 'user:546:followed_by', 'user:567:followed_by', 'username:grizzledOrange1', 'user:506:name', 'user:620:followed_by', 'username:giddyCheetah7', 'user:533:follows', 'username:boastfulQuiche1', 'username:sincereCoati2', 'user:686:follows', 'username:selfishKitten4', 'user:533:followed_by', 'user:506:follows', 'username:exactingMussel4', 'user:691:follows', 'username:thriftyBasmati8', 'username:culturedBittern0', 'username:pitifulOatmeal9', 'username:resolvedFish7', 'user:657:followed_by', 'user:613:followed_by', 'user:534:follows', 'username:worldlyWildfowl8', 'username:boastfulCoconut1', 'user:633:name', 'user:654:name', 'username:cruelChamois6', 'user:575:followed_by', 'user:677:name', 'user:656:name', 'user:580:name', 'user:516:name', 'user:647:follows', 'user:507:followed_by', 'user:503:name', 'user:515:name', 'user:541:follows', 'user:578:followed_by', 'user:640:followed_by', 'user:573:followed_by', 'username:chicSardines6', 'user:688:name', 'user:633:follows', 'username:betrayedCamel9', 'user:519:followed_by', 'user:548:name', 'user:674:followed_by', 'user:575:name', 'user:663:follows', 'user:699:name', 'user:627:followed_by', 'username:guiltyGelding4', 'username:grumpyLocust4', 'user:556:followed_by', 'username:pitifulApples1', 'user:604:name', 'user:517:followed_by', 'user:668:name', 'username:betrayedOwl2', 'username:debonairShads3', 'username:scornfulMuesli1', 'user:665:follows', 'user:542:follows', 'user:690:follows', 'user:694:name', 'user:588:name', 'user:580:follows', 'user:566:follows', 'user:514:follows', 'user:551:follows', 'user:609:name', 'username:cautiousLion2', 'user:623:followed_by', 'user:643:name', 'user:571:followed_by', 'username:blissfulRhino4', 'username:jubilantEland6', 'username:soreSyrup1', 'user:700:follows', 'user:619:follows', 'user:617:follows', 'user:568:followed_by', 'user:531:followed_by', 'user:662:follows', 'username:debonairPudding9', 'user:696:followed_by', 'username:boastfulApricots7', 'user:584:name', 'user:629:name', 'username:drearyStork1', 'username:obsessedTuna3', 'user:614:followed_by', 'user:683:followed_by', 'user:642:follows', 'username:obsessedSardines4', 'user:693:followed_by', 'user:645:followed_by', 'user:621:name', 'user:678:name', 'user:679:followed_by', 'user:603:follows', 'user:685:followed_by', 'user:596:follows', 'username:fondAbalone0', 'user:508:followed_by', 'username:mildChough6', 'user:699:follows', 'user:634:follows', 'user:624:name', 'user:560:followed_by', 'user:597:name', 'username:pleasedMackerel1', 'user:538:followed_by', 'user:581:name', 'user:526:follows', 'username:cheerfulCod0', 'username:cheerfulCordial9', 'user:699:followed_by', 'user:561:follows', 'username:brainyGarlic6', 'user:545:followed_by', 'user:652:follows', 'user:692:follows', 'user:535:name', 'user:519:follows', 'username:crummyBittern0', 'user:504:name', 'user:680:followed_by', 'user:651:followed_by', 'username:obsessedMagpie7', 'user:506:followed_by', 'user:659:name', 'username:mildCod6', 'username:innocentHare8', 'user:586:name', 'user:592:followed_by', 'user:522:name', 'user:654:follows', 'user:556:name', 'user:602:name', 'user:615:follows', 'username:soreClam0', 'username:scornfulSeafowl4', 'user:651:follows', 'user:646:followed_by', 'user:559:follows', 'user:590:followed_by', 'user:664:follows', 'username:pluckyLocust7', 'user:565:name', 'user:595:follows', 'user:626:followed_by', 'user:525:name', 'username:drearyGarlic7', 'user:632:followed_by', 'username:debonairViper2', 'user:607:follows', 'user:661:name', 'user:512:followed_by', 'user:549:name', 'username:decimalGatorade1', 'username:culturedAbalone6', 'username:zestyWildfowl6', 'user:551:name', 'user:537:follows', 'username:obsessedIguana9', 'user:610:follows', 'user:603:followed_by', 'user:530:followed_by', 'user:605:name', 'user:505:name', 'username:shyOwl5', 'user:585:name', 'user:558:name', 'user:516:followed_by', 'user:548:followed_by', 'user:517:name', 'user:648:followed_by', 'user:583:name', 'username:dreadfulTacos8', 'username:dearPorpoise2', 'user:629:follows', 'user:598:follows', 'user:558:follows', 'user:638:follows', 'user:653:followed_by', 'user:659:followed_by', 'user:658:follows', 'username:forsakenOcelot0', 'user:655:followed_by', 'user:529:followed_by', 'username:cheerfulSnail4', 'username:obsessedLemur9', 'user:572:followed_by', 'user:503:follows', 'username:thriftyDotterel9', 'username:thriftyCod4', 'user:656:followed_by', 'username:pacifiedRat4', 'user:644:followed_by', 'user:603:name', 'user:600:name', 'user:502:follows', 'user:508:name', 'username:zestyApples7', 'user:680:name', 'user:643:follows', 'user:568:follows', 'username:dejectedCardinal2', 'user:553:name', 'username:panickyBaboon8', 'user:677:followed_by', 'user:505:follows', 'user:550:name', 'username:madLollies6', 'user:636:name', 'user:579:followed_by', 'user:560:name', 'username:grizzledPorpoise2', 'user:679:name', 'user:528:follows', 'user:645:follows', 'username:sadPlover0', 'user:518:name', 'user:669:name', 'user:624:follows', 'username:joyfulMoth5', 'user:549:followed_by', 'user:614:name', 'user:562:follows', 'user:634:followed_by', 'username:grizzledVenison5', 'user:616:follows', 'user:558:followed_by', 'username:excludedOcelot4', 'username:zestyPear9', 'user:615:followed_by', 'username:lovesickUnicorn1', 'username:peacefulSwift1', 'user:631:followed_by', 'user:546:name', 'user:688:followed_by', 'user:667:follows', 'user:598:name', 'user:590:name', 'username:pridefulDoves3', 'user:515:followed_by', 'user:599:follows', 'user:663:followed_by', 'user:524:follows', 'user:623:follows', 'user:579:name', 'username:jumpyAbalone9', 'username:holisticDinosaur1', 'user:678:follows', 'user:581:follows', 'user:574:name', 'user:642:name', 'username:chicRice0', 'username:curiousBagels7', 'user:624:followed_by', 'username:sadLocust2', 'user:546:follows', 'user:695:followed_by', 'user:521:followed_by', 'user:662:followed_by', 'user:547:followed_by', 'user:597:follows', 'user:504:followed_by', 'username:humorousDinosaur4', 'username:dopeyDoughnut4', 'user:555:follows', 'username:cockyGatorade9', 'user:577:name', 'user:649:name', 'user:637:followed_by', 'user:565:follows', 'user:552:follows', 'user:551:followed_by', 'user:601:followed_by', 'username:grudgingMussel2', 'user:669:follows', 'user:647:followed_by', 'user:668:followed_by', 'user:527:followed_by', 'user:534:followed_by', 'user:530:follows', 'user:641:followed_by', 'username:alertMeerkat3', 'user:585:follows', 'user:638:followed_by', 'user:628:name', 'user:605:follows', 'username:enragedTacos0', 'username:euphoricHoopoe0', 'user:516:follows', 'user:637:name', 'user:675:name', 'user:527:name', 'user:652:followed_by', 'user:618:name', 'user:693:follows', 'user:540:name', 'username:empathicApricots6', 'user:665:name', 'username:mereMacaw4', 'user:666:name', 'username:holisticMuesli0', 'user:652:name', 'user:587:follows', 'user:573:name', 'user:524:name', 'user:682:name', 'user:585:followed_by', 'username:ferventBass6', 'user:600:followed_by', 'user:509:name', 'username:obsessedBurritos4', 'user:587:followed_by', 'user:657:follows', 'user:582:name', 'user:634:name', 'user:671:follows', 'username:blissfulSardines1', 'username:abjectLapwing9', 'username:sugaryOryx6', 'user:645:name', 'user:622:followed_by', 'username:anxiousDoves1', 'user:604:followed_by', 'user:513:followed_by', 'user:671:followed_by', 'username:needyChough7', 'username:wakefulKitten1', 'user:514:name', 'user:528:name', 'user:683:name', 'user:667:followed_by', 'user:610:name', 'username:puzzledLollies9', 'user:576:follows', 'user:541:followed_by', 'user:648:follows', 'user:668:follows', 'user:669:followed_by', 'user:620:name', 'user:617:name', 'user:555:name', 'user:593:name', 'user:567:follows', 'user:649:followed_by', 'username:worriedGatorade2', 'user:543:follows', 'username:annoyedLemur0', 'user:674:name', 'user:678:followed_by', 'user:632:name', 'username:cautiousPepper5', 'user:681:name', 'user:593:follows', 'user:686:name', 'user:598:followed_by', 'user:588:followed_by', 'user:622:name', 'user:640:follows', 'username:wornoutLion3', 'user:587:name', 'user:675:followed_by', 'user:659:follows', 'user:523:followed_by', 'user:621:followed_by', 'user:579:follows', 'username:somberChamois8', 'user:601:name', 'username:zestyLard9', 'user:559:followed_by', 'username:cruelSausage6', 'user:670:followed_by', 'user:684:follows', 'username:dearGranola5', 'user:658:name', 'username:unhappyRuffs6', 'user:542:followed_by', 'user:606:follows', 'user:695:name', 'user:657:name', 'user:627:follows', 'username:cockyCamel8', 'user:539:follows', 'username:insecureMare9', 'user:583:followed_by', 'user:685:name', 'user:690:name', 'user:553:followed_by', 'username:trustingLlama9', 'username:boastfulRat2', 'username:mercifulApricots7', 'username:stressedCrackers8', 'user:511:name', 'user:639:followed_by', 'user:658:followed_by', 'user:660:follows', 'user:661:followed_by', 'username:wornoutPlover0', 'user:676:name', 'user:544:follows', 'user:694:follows', 'user:644:follows', 'user:543:name', 'user:687:name', 'user:605:followed_by', 'user:656:follows', 'user:578:name', 'username:sincereFalcon0', 'user:547:name', 'user:580:followed_by', 'user:682:followed_by', 'user:569:name', 'username:empathicCurlew0', 'user:521:name', 'username:panickyEland4', 'user:604:follows', 'user:570:follows', 'username:yearningPaella1', 'user:567:name', 'user:602:followed_by', 'user:536:follows', 'user:666:followed_by', 'user:630:follows', 'user:615:name', 'user:639:follows', 'user:534:name', 'user:570:followed_by', 'user:613:follows', 'user:574:followed_by', 'user:650:name', 'user:611:followed_by', 'user:503:followed_by', 'user:595:name', 'username:truthfulBaboon0', 'user:544:followed_by', 'user:612:follows', 'username:excludedCardinal6', 'username:exactingPonie6', 'user:618:follows', 'user:520:name', 'user:649:follows', 'user:635:name', 'username:curiousQuiche2', 'user:562:name', 'user:673:name', 'user:537:name', 'user:596:name', 'user:518:follows', 'user:700:name', 'user:639:name', 'user:626:follows', 'username:thriftyOtter1', 'user:545:name', 'user:557:followed_by', 'user:609:followed_by', 'user:502:followed_by', 'user:523:name', 'user:675:follows', 'username:forsakenLapwing8', 'username:needyToucan3', 'user:601:follows', 'username:joyfulDunbird0', 'username:gleefulPear3', 'user:586:followed_by', 'user:552:followed_by', 'user:608:followed_by', 'username:holisticCoconut6', 'username:solidMuesli3', 'user:512:name', 'user:692:followed_by', 'user:561:name', 'username:pacifiedSheep9', 'user:673:followed_by', 'user:538:follows', 'username:excitedPie4', 'username:dearCardinal6', 'user:618:followed_by', 'username:outlyingTeal8', 'username:murkyPoultry0', 'user:641:follows', 'username:fondOtter4', 'user:635:followed_by', 'username:emptyEggs3', 'user:574:follows', 'username:needyPiglet0', 'username:pacifiedCod4', 'username:shamefulJerky8', 'user:564:followed_by', 'user:664:followed_by', 'username:pacifiedCamel4', 'username:ashamedCrackers9', 'user:623:name', 'user:536:name', 'username:ashamedChough8', 'username:eagerTortoise1', 'user:540:followed_by', 'user:626:name', 'username:anxiousGarlic4', 'user:591:followed_by', 'user:606:name', 'username:wakefulSheep5', 'username:mildCod1', 'user:571:follows', 'user:523:follows', 'user:513:name', 'user:636:follows', 'user:561:followed_by', 'user:507:follows', 'user:644:name', 'user:536:followed_by', 'user:502:name', 'user:660:name', 'username:lyingBaboon1', 'user:663:name', 'user:608:follows', 'user:602:follows', 'user:575:follows', 'user:684:name', 'user:631:follows', 'user:640:name', 'user:691:name', 'username:pitifulStork2', 'user:554:follows', 'user:654:followed_by', 'user:520:follows', 'user:655:follows', 'user:594:follows', 'user:510:followed_by', 'user:613:name', 'user:589:follows', 'user:689:followed_by', 'username:mellowLizard3', 'username:pacifiedCaviar9', 'username:solidPaella1', 'user:592:follows', 'user:510:follows', 'user:694:followed_by', 'user:526:name', 'user:642:followed_by', 'user:689:name', 'user:628:followed_by', 'user:538:name', 'user:557:follows', 'username:relievedTortoise4', 'user:655:name', 'user:559:name', 'user:501:name', 'user:510:name', 'user:563:follows', 'user:696:name', 'user:539:followed_by', 'user:614:follows', 'user:532:followed_by', 'username:empathicMallard0', 'user:625:name', 'username:madRaisins0', 'user:531:follows', 'user:697:follows', 'user:524:followed_by', 'user:591:name', 'user:607:name', 'user:576:followed_by', 'user:505:followed_by', 'user:576:name', 'user:588:follows', 'user:518:followed_by', 'user:569:followed_by', 'user:646:follows', 'user:679:follows', 'user:608:name', 'username:bubblyFalcon3', 'user:525:follows', 'user:633:followed_by', 'username:euphoricRuffs1', 'username:aboardCardinal3', 'user:643:followed_by', 'user:684:followed_by', 'username:pridefulCardinal0', 'user:631:name', 'user:617:followed_by', 'user:591:follows', 'user:526:followed_by', 'username:giddyCur6', 'user:599:name', 'username:curiousDinosaur2', 'user:672:followed_by', 'user:542:name', 'user:625:followed_by', 'user:636:followed_by', 'user:672:name', 'user:550:followed_by', 'username:murkySnail9', 'user:676:follows', 'user:528:followed_by', 'user:531:name', 'user:572:follows', 'user:697:followed_by', 'user:521:follows', 'user:629:followed_by', 'user:647:name', 'username:culturedSalt6', 'user:630:name', 'user:611:follows', 'user:612:followed_by', 'username:eagerGnu8', 'username:eagerCur4', 'user:594:name', 'user:533:name', 'username:anxiousSalami8', 'user:676:followed_by', 'username:cockyVenison6', 'user:611:name', 'user:501:follows', 'username:pleasedOil8', 'user:690:followed_by', 'user:662:name', 'user:698:followed_by', 'user:698:name', 'username:tautOryx7', 'user:627:name', 'username:cynicalWidgeon3', 'user:667:name', 'user:610:followed_by', 'user:582:followed_by', 'user:681:follows', 'user:569:follows', 'user:691:followed_by', 'user:566:name', 'user:646:name', 'user:577:follows', 'user:565:followed_by', 'user:529:name', 'user:581:followed_by', 'username:adoringMallard7', 'username:crushedCaribou5', 'user:693:name', 'user:638:name', 'user:532:name', 'user:571:name', 'username:ardentWeaver9', 'user:616:name', 'user:593:followed_by', 'user:541:name', 'user:607:followed_by', 'user:650:followed_by', 'user:685:follows', 'username:solemnClam4', 'user:660:followed_by', 'user:573:follows', 'user:577:followed_by', 'username:cautiousCrackers9', 'user:637:follows', 'user:511:followed_by', 'user:563:name', 'username:grizzledOryx9', 'user:501:followed_by', 'user:572:name', 'user:651:name', 'username:selfishFalcon5', 'user:564:follows', 'user:665:followed_by', 'user:548:follows', 'user:582:follows', 'user:687:followed_by', 'user:513:follows', 'user:589:followed_by', 'user:630:followed_by', 'user:564:name', 'username:trustingOwl0', 'username:boastfulChowder1', 'username:troubledFerret5', 'user:586:follows', 'user:554:followed_by', 'username:mildGelding4']\n"
     ]
    }
   ],
   "source": [
    "rd = redis.Redis(host='lab.aimet.tech', charset=\"utf-8\", decode_responses=True)\n",
    "rd.auth(username='hw', password='hw')\n",
    "\n",
    "# show all keys\n",
    "print(rd.keys('*'))"
   ]
  },
  {
   "cell_type": "markdown",
   "metadata": {},
   "source": [
    "## What is the username of user id \"600\"?"
   ]
  },
  {
   "cell_type": "code",
   "execution_count": 4,
   "metadata": {},
   "outputs": [
    {
     "data": {
      "text/plain": [
       "'cautiousCrackers9'"
      ]
     },
     "execution_count": 4,
     "metadata": {},
     "output_type": "execute_result"
    }
   ],
   "source": [
    "rd.get('user:600:name')"
   ]
  },
  {
   "cell_type": "markdown",
   "metadata": {},
   "source": [
    "## What is the id of username \"excitedPie4\" ?"
   ]
  },
  {
   "cell_type": "code",
   "execution_count": 5,
   "metadata": {},
   "outputs": [
    {
     "data": {
      "text/plain": [
       "'567'"
      ]
     },
     "execution_count": 5,
     "metadata": {},
     "output_type": "execute_result"
    }
   ],
   "source": [
    "rd.get('username:excitedPie4')"
   ]
  },
  {
   "cell_type": "markdown",
   "metadata": {},
   "source": [
    "## How many users that \"excitedPie4\" follows ?"
   ]
  },
  {
   "cell_type": "code",
   "execution_count": 6,
   "metadata": {},
   "outputs": [
    {
     "data": {
      "text/plain": [
       "9"
      ]
     },
     "execution_count": 6,
     "metadata": {},
     "output_type": "execute_result"
    }
   ],
   "source": [
    "rd.scard('user:567:follows')"
   ]
  },
  {
   "cell_type": "markdown",
   "metadata": {},
   "source": [
    "## How many users are there in the database?"
   ]
  },
  {
   "cell_type": "code",
   "execution_count": 7,
   "metadata": {},
   "outputs": [
    {
     "name": "stdout",
     "output_type": "stream",
     "text": [
      "Number of users:  200\n"
     ]
    }
   ],
   "source": [
    "numberOfUsers = sum([1 for _ in rd.keys('username:*')])\n",
    "\n",
    "print(\"Number of users: \", numberOfUsers)"
   ]
  },
  {
   "cell_type": "markdown",
   "metadata": {},
   "source": [
    "## What is the average number of follows per user?"
   ]
  },
  {
   "cell_type": "code",
   "execution_count": 11,
   "metadata": {},
   "outputs": [
    {
     "name": "stdout",
     "output_type": "stream",
     "text": [
      "Average number of followers:  8.605\n"
     ]
    }
   ],
   "source": [
    "followers = [rd.scard(key) for key in rd.keys('user:*:follows')]\n",
    "\n",
    "print(\"Average number of followers: \", sum(followers) / numberOfUsers)"
   ]
  },
  {
   "cell_type": "markdown",
   "metadata": {},
   "source": [
    "## How many users follows between 5-10 users?"
   ]
  },
  {
   "cell_type": "code",
   "execution_count": 9,
   "metadata": {},
   "outputs": [
    {
     "name": "stdout",
     "output_type": "stream",
     "text": [
      "Number of users follows between 5-10 users:  60\n"
     ]
    }
   ],
   "source": [
    "users = [1 for key in rd.keys('user:*:follows') if rd.scard(key) >= 5 and rd.scard(key) <= 10]\n",
    "\n",
    "print(\"Number of users follows between 5-10 users: \" ,sum(users))"
   ]
  },
  {
   "cell_type": "markdown",
   "metadata": {},
   "source": [
    "## Which account has the most followers?"
   ]
  },
  {
   "cell_type": "code",
   "execution_count": 10,
   "metadata": {},
   "outputs": [
    {
     "name": "stdout",
     "output_type": "stream",
     "text": [
      "User ID:  630\n"
     ]
    }
   ],
   "source": [
    "maxUser = max(rd.keys('user:*:followed_by'), key=lambda x: rd.scard(x))\n",
    "\n",
    "print(\"User ID: \", maxUser.split(\":\")[1])"
   ]
  }
 ],
 "metadata": {
  "kernelspec": {
   "display_name": "Python 3 (ipykernel)",
   "language": "python",
   "name": "python3"
  },
  "language_info": {
   "codemirror_mode": {
    "name": "ipython",
    "version": 3
   },
   "file_extension": ".py",
   "mimetype": "text/x-python",
   "name": "python",
   "nbconvert_exporter": "python",
   "pygments_lexer": "ipython3",
   "version": "3.12.0"
  },
  "toc": {
   "base_numbering": 1,
   "nav_menu": {},
   "number_sections": true,
   "sideBar": true,
   "skip_h1_title": false,
   "title_cell": "Table of Contents",
   "title_sidebar": "Contents",
   "toc_cell": false,
   "toc_position": {},
   "toc_section_display": true,
   "toc_window_display": false
  },
  "varInspector": {
   "cols": {
    "lenName": 16,
    "lenType": 16,
    "lenVar": 40
   },
   "kernels_config": {
    "python": {
     "delete_cmd_postfix": "",
     "delete_cmd_prefix": "del ",
     "library": "var_list.py",
     "varRefreshCmd": "print(var_dic_list())"
    },
    "r": {
     "delete_cmd_postfix": ") ",
     "delete_cmd_prefix": "rm(",
     "library": "var_list.r",
     "varRefreshCmd": "cat(var_dic_list()) "
    }
   },
   "types_to_exclude": [
    "module",
    "function",
    "builtin_function_or_method",
    "instance",
    "_Feature"
   ],
   "window_display": false
  }
 },
 "nbformat": 4,
 "nbformat_minor": 4
}
