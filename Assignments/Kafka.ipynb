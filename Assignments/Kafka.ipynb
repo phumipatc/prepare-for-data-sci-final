{
  "cells": [
    {
      "cell_type": "code",
      "source": [
        "%pip install avro kafka-python"
      ],
      "metadata": {
        "colab": {
          "base_uri": "https://localhost:8080/"
        },
        "id": "DyP3PIMuRX3W",
        "outputId": "b251d449-de74-4d0e-dcd4-a64eb688250c"
      },
      "id": "DyP3PIMuRX3W",
      "execution_count": 14,
      "outputs": [
        {
          "output_type": "stream",
          "name": "stdout",
          "text": [
            "Requirement already satisfied: avro in /usr/local/lib/python3.10/dist-packages (1.11.3)\n",
            "Requirement already satisfied: kafka-python in /usr/local/lib/python3.10/dist-packages (2.0.2)\n"
          ]
        }
      ]
    },
    {
      "cell_type": "code",
      "execution_count": 15,
      "id": "3d144bf2",
      "metadata": {
        "id": "3d144bf2"
      },
      "outputs": [],
      "source": [
        "# import required libraries\n",
        "from kafka import KafkaConsumer, KafkaProducer\n",
        "import avro.schema\n",
        "import avro.io\n",
        "import io\n",
        "import hashlib, json"
      ]
    },
    {
      "cell_type": "code",
      "execution_count": 16,
      "id": "6234ffde",
      "metadata": {
        "id": "6234ffde"
      },
      "outputs": [],
      "source": [
        "def serialize(schema, obj):\n",
        "    bytes_writer = io.BytesIO()\n",
        "    encoder = avro.io.BinaryEncoder(bytes_writer)\n",
        "    writer = avro.io.DatumWriter(schema)\n",
        "    writer.write(obj, encoder)\n",
        "    return bytes_writer.getvalue()"
      ]
    },
    {
      "cell_type": "code",
      "execution_count": 17,
      "id": "5e1434bb",
      "metadata": {
        "id": "5e1434bb"
      },
      "outputs": [],
      "source": [
        "def deserialize(schema, raw_bytes):\n",
        "    bytes_reader = io.BytesIO(raw_bytes)\n",
        "    decoder = avro.io.BinaryDecoder(bytes_reader)\n",
        "    reader = avro.io.DatumReader(schema)\n",
        "    return reader.read(decoder)"
      ]
    },
    {
      "cell_type": "code",
      "execution_count": 18,
      "id": "22a8f0c9",
      "metadata": {
        "colab": {
          "base_uri": "https://localhost:8080/"
        },
        "id": "22a8f0c9",
        "outputId": "a33d3c02-4eb3-4949-963b-08fa76367cef"
      },
      "outputs": [
        {
          "output_type": "stream",
          "name": "stdout",
          "text": [
            "--2024-03-25 15:46:06--  https://raw.githubusercontent.com/pvateekul/2110446_DSDE_2023s2/main/code/Week09_DataIngestion/Assignment/result.avsc\n",
            "Resolving raw.githubusercontent.com (raw.githubusercontent.com)... 185.199.109.133, 185.199.108.133, 185.199.111.133, ...\n",
            "Connecting to raw.githubusercontent.com (raw.githubusercontent.com)|185.199.109.133|:443... connected.\n",
            "HTTP request sent, awaiting response... 200 OK\n",
            "Length: 359 [text/plain]\n",
            "Saving to: ‘result.avsc.1’\n",
            "\n",
            "\rresult.avsc.1         0%[                    ]       0  --.-KB/s               \rresult.avsc.1       100%[===================>]     359  --.-KB/s    in 0s      \n",
            "\n",
            "2024-03-25 15:46:06 (18.1 MB/s) - ‘result.avsc.1’ saved [359/359]\n",
            "\n",
            "--2024-03-25 15:46:06--  https://raw.githubusercontent.com/pvateekul/2110446_DSDE_2023s2/main/code/Week09_DataIngestion/Assignment/submit.avsc\n",
            "Resolving raw.githubusercontent.com (raw.githubusercontent.com)... 185.199.108.133, 185.199.109.133, 185.199.110.133, ...\n",
            "Connecting to raw.githubusercontent.com (raw.githubusercontent.com)|185.199.108.133|:443... connected.\n",
            "HTTP request sent, awaiting response... 200 OK\n",
            "Length: 231 [text/plain]\n",
            "Saving to: ‘submit.avsc.1’\n",
            "\n",
            "submit.avsc.1       100%[===================>]     231  --.-KB/s    in 0s      \n",
            "\n",
            "2024-03-25 15:46:06 (18.8 MB/s) - ‘submit.avsc.1’ saved [231/231]\n",
            "\n",
            "--2024-03-25 15:46:06--  https://raw.githubusercontent.com/pvateekul/2110446_DSDE_2023s2/main/code/Week09_DataIngestion/Assignment/transaction.avsc\n",
            "Resolving raw.githubusercontent.com (raw.githubusercontent.com)... 185.199.108.133, 185.199.111.133, 185.199.109.133, ...\n",
            "Connecting to raw.githubusercontent.com (raw.githubusercontent.com)|185.199.108.133|:443... connected.\n",
            "HTTP request sent, awaiting response... 200 OK\n",
            "Length: 275 [text/plain]\n",
            "Saving to: ‘transaction.avsc.1’\n",
            "\n",
            "transaction.avsc.1  100%[===================>]     275  --.-KB/s    in 0s      \n",
            "\n",
            "2024-03-25 15:46:07 (6.94 MB/s) - ‘transaction.avsc.1’ saved [275/275]\n",
            "\n"
          ]
        }
      ],
      "source": [
        "!wget https://raw.githubusercontent.com/pvateekul/2110446_DSDE_2023s2/main/code/Week09_DataIngestion/Assignment/result.avsc\n",
        "!wget https://raw.githubusercontent.com/pvateekul/2110446_DSDE_2023s2/main/code/Week09_DataIngestion/Assignment/submit.avsc\n",
        "!wget https://raw.githubusercontent.com/pvateekul/2110446_DSDE_2023s2/main/code/Week09_DataIngestion/Assignment/transaction.avsc"
      ]
    },
    {
      "cell_type": "code",
      "execution_count": 19,
      "id": "0e92e3e9",
      "metadata": {
        "id": "0e92e3e9"
      },
      "outputs": [],
      "source": [
        "schema_file = 'transaction.avsc'\n",
        "txschema = avro.schema.parse(open(schema_file).read())\n",
        "schema_file = 'submit.avsc'\n",
        "submitschema = avro.schema.parse(open(schema_file).read())\n",
        "schema_file = 'result.avsc'\n",
        "resultschema = avro.schema.parse(open(schema_file).read())"
      ]
    },
    {
      "cell_type": "code",
      "execution_count": 20,
      "id": "bcb5dc21",
      "metadata": {
        "id": "bcb5dc21"
      },
      "outputs": [],
      "source": [
        "# Connect to kafka broker running in your local host (docker). Change this to your kafka broker if needed\n",
        "kafka_broker = 'lab.aimet.tech:9092'"
      ]
    },
    {
      "cell_type": "code",
      "execution_count": 21,
      "id": "0e05b4b0",
      "metadata": {
        "id": "0e05b4b0"
      },
      "outputs": [],
      "source": [
        "producer = KafkaProducer(bootstrap_servers=[kafka_broker])"
      ]
    },
    {
      "cell_type": "code",
      "execution_count": 22,
      "id": "4a2555a3",
      "metadata": {
        "colab": {
          "base_uri": "https://localhost:8080/"
        },
        "id": "4a2555a3",
        "outputId": "2f179ec2-43b1-4d6c-933e-93d59235aaa0"
      },
      "outputs": [
        {
          "output_type": "stream",
          "name": "stderr",
          "text": [
            "WARNING:kafka.coordinator.consumer:group_id is None: disabling auto-commit.\n",
            "WARNING:kafka.coordinator.consumer:group_id is None: disabling auto-commit.\n"
          ]
        }
      ],
      "source": [
        "txconsumer = KafkaConsumer(\n",
        "    'transaction',\n",
        "     bootstrap_servers=[kafka_broker],\n",
        "     enable_auto_commit=True,\n",
        "     value_deserializer=lambda x: deserialize(txschema, x))\n",
        "resultconsumer = KafkaConsumer(\n",
        "    'result',\n",
        "     bootstrap_servers=[kafka_broker],\n",
        "     enable_auto_commit=True,\n",
        "     value_deserializer=lambda x: deserialize(resultschema, x))"
      ]
    },
    {
      "cell_type": "code",
      "execution_count": 23,
      "id": "fe697a88",
      "metadata": {
        "id": "fe697a88"
      },
      "outputs": [],
      "source": [
        "def gen_signature(txid, payer, payee, amount, token):\n",
        "    o = {'txid': txid, 'payer': payer, 'payee': payee, 'amount': amount, 'token': token}\n",
        "    return hashlib.md5(json.dumps(o, sort_keys=True).encode('utf-8')).hexdigest()"
      ]
    },
    {
      "cell_type": "code",
      "execution_count": 24,
      "id": "b9915bcc",
      "metadata": {
        "id": "b9915bcc"
      },
      "outputs": [],
      "source": [
        "VID = 'V088882'\n",
        "TOKEN = '99baded1c9c64c4380a057bf056438f7'"
      ]
    },
    {
      "cell_type": "code",
      "execution_count": 25,
      "id": "23c24dbd",
      "metadata": {
        "colab": {
          "base_uri": "https://localhost:8080/"
        },
        "id": "23c24dbd",
        "outputId": "66d62895-559f-4d1d-8461-a8c0ba088d58"
      },
      "outputs": [
        {
          "output_type": "stream",
          "name": "stdout",
          "text": [
            "Transaction TX00892 is verified\n",
            "{'timestamp': 1711381578, 'vid': 'V088882', 'txid': 'TX00892', 'checksum': '8986ccd72dac6df7f584b262835a50d8', 'code': 200, 'message': 'Confirm'}\n"
          ]
        }
      ],
      "source": [
        "for message in txconsumer:\n",
        "\ttxid = message.value['txid']\n",
        "\tpayer = message.value['payer']\n",
        "\tpayee = message.value['payee']\n",
        "\tamount = message.value['amount']\n",
        "\n",
        "\tsignature = gen_signature(txid, payer, payee, amount, TOKEN)\n",
        "\tsubmit = {'vid': VID, 'txid': txid, 'signature': signature}\n",
        "\tproducer.send('submit', serialize(submitschema, submit))\n",
        "\n",
        "\tverifiedTransaction = None\n",
        "\tfor message in resultconsumer:\n",
        "\t\tif message.value['vid'] == VID and message.value['txid'] == txid and message.value['code'] == 200:\n",
        "\t\t\tprint(f\"Transaction {txid} is verified\")\n",
        "\t\t\tverifiedTransaction = message.value\n",
        "\t\t\tbreak\n",
        "\n",
        "\tif verifiedTransaction:\n",
        "\t\tprint(verifiedTransaction)\n",
        "\t\tbreak\n"
      ]
    }
  ],
  "metadata": {
    "kernelspec": {
      "display_name": "Python 3 (ipykernel)",
      "language": "python",
      "name": "python3"
    },
    "language_info": {
      "codemirror_mode": {
        "name": "ipython",
        "version": 3
      },
      "file_extension": ".py",
      "mimetype": "text/x-python",
      "name": "python",
      "nbconvert_exporter": "python",
      "pygments_lexer": "ipython3",
      "version": "3.9.13"
    },
    "colab": {
      "provenance": [],
      "toc_visible": true
    }
  },
  "nbformat": 4,
  "nbformat_minor": 5
}