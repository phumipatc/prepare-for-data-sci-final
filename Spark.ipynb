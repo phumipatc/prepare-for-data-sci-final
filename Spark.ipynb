{
  "cells": [
    {
      "cell_type": "markdown",
      "metadata": {
        "id": "5uYxwRRObLR-"
      },
      "source": [
        "# Spark Preparation\n",
        "We check if we are in Google Colab.  If this is the case, install all necessary packages.\n",
        "\n",
        "To run spark in Colab, we need to first install all the dependencies in Colab environment i.e. Apache Spark 3.3.2 with hadoop 3.3, Java 8 and Findspark to locate the spark in the system. The tools installation can be carried out inside the Jupyter Notebook of the Colab.\n",
        "Learn more from [A Must-Read Guide on How to Work with PySpark on Google Colab for Data Scientists!](https://www.analyticsvidhya.com/blog/2020/11/a-must-read-guide-on-how-to-work-with-pyspark-on-google-colab-for-data-scientists/)"
      ]
    },
    {
      "cell_type": "code",
      "execution_count": 1,
      "metadata": {
        "id": "PtSe9yaSbLR_"
      },
      "outputs": [],
      "source": [
        "try:\n",
        "  import google.colab\n",
        "  IN_COLAB = True\n",
        "except:\n",
        "  IN_COLAB = False"
      ]
    },
    {
      "cell_type": "code",
      "execution_count": 2,
      "metadata": {
        "id": "95Lg8RF5bLR_"
      },
      "outputs": [],
      "source": [
        "if IN_COLAB:\n",
        "    !apt-get install openjdk-8-jdk-headless -qq > /dev/null\n",
        "    !wget -q https://dlcdn.apache.org/spark/spark-3.5.1/spark-3.5.1-bin-hadoop3.tgz\n",
        "    !tar xf spark-3.5.1-bin-hadoop3.tgz\n",
        "    !mv spark-3.5.1-bin-hadoop3 spark\n",
        "    !pip install -q findspark\n",
        "    import os\n",
        "    os.environ[\"JAVA_HOME\"] = \"/usr/lib/jvm/java-8-openjdk-amd64\"\n",
        "    os.environ[\"SPARK_HOME\"] = \"/content/spark\""
      ]
    },
    {
      "cell_type": "markdown",
      "metadata": {
        "id": "X4qEQU2FbLR_"
      },
      "source": [
        "# Start a Local Cluster"
      ]
    },
    {
      "cell_type": "code",
      "execution_count": 5,
      "metadata": {
        "id": "0nbXURehbLSA"
      },
      "outputs": [],
      "source": [
        "import findspark\n",
        "findspark.init()\n",
        "\n",
        "spark_url = 'local'\n",
        "\n",
        "from pyspark.sql import SparkSession\n",
        "from pyspark.sql import SQLContext\n",
        "\n",
        "spark = SparkSession.builder\\\n",
        "        .master(spark_url)\\\n",
        "        .appName('Spark Tutorial')\\\n",
        "        .config('spark.ui.port', '4040')\\\n",
        "        .getOrCreate()"
      ]
    },
    {
      "cell_type": "markdown",
      "metadata": {
        "id": "S0cbUN7NbLSA"
      },
      "source": [
        "# Spark Assignment\n",
        "\n",
        "Based on the movie review dataset in 'netflix-rotten-tomatoes-metacritic-imdb.csv', answer the below questions.\n",
        "\n",
        "**Note:** do not clean or remove missing data"
      ]
    },
    {
      "cell_type": "code",
      "execution_count": 11,
      "metadata": {
        "colab": {
          "base_uri": "https://localhost:8080/",
          "height": 0
        },
        "id": "dvoPiDNzbLSA",
        "outputId": "09b213b6-bcf5-40c7-ef9a-62f6f74b546c"
      },
      "outputs": [
        {
          "output_type": "stream",
          "name": "stdout",
          "text": [
            "root\n",
            " |-- Title: string (nullable = true)\n",
            " |-- Genre: string (nullable = true)\n",
            " |-- Tags: string (nullable = true)\n",
            " |-- Languages: string (nullable = true)\n",
            " |-- Series or Movie: string (nullable = true)\n",
            " |-- Hidden Gem Score: string (nullable = true)\n",
            " |-- Country Availability: string (nullable = true)\n",
            " |-- Runtime: string (nullable = true)\n",
            " |-- Director: string (nullable = true)\n",
            " |-- Writer: string (nullable = true)\n",
            " |-- Actors: string (nullable = true)\n",
            " |-- View Rating: string (nullable = true)\n",
            " |-- IMDb Score: string (nullable = true)\n",
            " |-- Rotten Tomatoes Score: string (nullable = true)\n",
            " |-- Metacritic Score: string (nullable = true)\n",
            " |-- Awards Received: string (nullable = true)\n",
            " |-- Awards Nominated For: string (nullable = true)\n",
            " |-- Boxoffice: string (nullable = true)\n",
            " |-- Release Date: string (nullable = true)\n",
            " |-- Netflix Release Date: string (nullable = true)\n",
            " |-- Production House: string (nullable = true)\n",
            " |-- Netflix Link: string (nullable = true)\n",
            " |-- IMDb Link: string (nullable = true)\n",
            " |-- Summary: string (nullable = true)\n",
            " |-- IMDb Votes: string (nullable = true)\n",
            " |-- Image: string (nullable = true)\n",
            " |-- Poster: string (nullable = true)\n",
            " |-- TMDb Trailer: string (nullable = true)\n",
            " |-- Trailer Site: string (nullable = true)\n",
            "\n"
          ]
        }
      ],
      "source": [
        "path = 'netflix-rotten-tomatoes-metacritic-imdb.csv'\n",
        "\n",
        "df = spark.read.option(\"delimiter\", \",\").option(\"header\", True).csv(path)\n",
        "\n",
        "df.printSchema()"
      ]
    },
    {
      "cell_type": "code",
      "source": [
        "df.show(5)"
      ],
      "metadata": {
        "colab": {
          "base_uri": "https://localhost:8080/",
          "height": 0
        },
        "id": "5qEjEG86dJKl",
        "outputId": "3c87bfe2-37a8-4e9a-b0d1-1448d91c631d"
      },
      "execution_count": 12,
      "outputs": [
        {
          "output_type": "stream",
          "name": "stdout",
          "text": [
            "+-------------------+--------------------+--------------------+----------------+---------------+----------------+--------------------+------------+---------------+--------------------+--------------------+-----------+----------+---------------------+----------------+---------------+--------------------+----------+------------+--------------------+--------------------+--------------------+--------------------+--------------------+----------+--------------------+--------------------+--------------------+------------+\n",
            "|              Title|               Genre|                Tags|       Languages|Series or Movie|Hidden Gem Score|Country Availability|     Runtime|       Director|              Writer|              Actors|View Rating|IMDb Score|Rotten Tomatoes Score|Metacritic Score|Awards Received|Awards Nominated For| Boxoffice|Release Date|Netflix Release Date|    Production House|        Netflix Link|           IMDb Link|             Summary|IMDb Votes|               Image|              Poster|        TMDb Trailer|Trailer Site|\n",
            "+-------------------+--------------------+--------------------+----------------+---------------+----------------+--------------------+------------+---------------+--------------------+--------------------+-----------+----------+---------------------+----------------+---------------+--------------------+----------+------------+--------------------+--------------------+--------------------+--------------------+--------------------+----------+--------------------+--------------------+--------------------+------------+\n",
            "|   Lets Fight Ghost|Crime, Drama, Fan...|Comedy Programmes...|Swedish, Spanish|         Series|             4.3|            Thailand|< 30 minutes|Tomas Alfredson|John Ajvide Lindq...|Kåre Hedebrant, P...|          R|       7.9|                 98.0|            82.0|           74.0|                57.0|$2,122,065| 12 Dec 2008|          2021-03-04|Canal+, Sandrew M...|https://www.netfl...|https://www.imdb....|A med student wit...|  205926.0|https://occ-0-470...|https://m.media-a...|                NULL|        NULL|\n",
            "|HOW TO BUILD A GIRL|              Comedy|Dramas,Comedies,F...|         English|          Movie|             7.0|              Canada|    1-2 hour|  Coky Giedroyc|       Caitlin Moran|Paddy Considine, ...|          R|       5.8|                 79.0|            69.0|            1.0|                NULL|   $70,632| 08 May 2020|          2021-03-04|Film 4, Monumenta...|https://www.netfl...|https://www.imdb....|When nerdy Johann...|    2838.0|https://occ-0-108...|https://m.media-a...|https://www.youtu...|     YouTube|\n",
            "|         Centigrade|     Drama, Thriller|           Thrillers|         English|          Movie|             6.4|              Canada|    1-2 hour|  Brendan Walsh|Brendan Walsh, Da...|Genesis Rodriguez...|    Unrated|       4.3|                 NULL|            46.0|           NULL|                NULL|   $16,263| 28 Aug 2020|          2021-03-04|                NULL|https://www.netfl...|https://www.imdb....|Trapped in a froz...|    1720.0|https://occ-0-108...|https://m.media-a...|https://www.youtu...|     YouTube|\n",
            "|              ANNE+|               Drama|TV Dramas,Romanti...|         Turkish|         Series|             7.7| Belgium,Netherlands|< 30 minutes|           NULL|                NULL|Vahide Perçin, Go...|       NULL|       6.5|                 NULL|            NULL|            1.0|                NULL|      NULL| 01 Oct 2016|          2021-03-04|                NULL|https://www.netfl...|https://www.imdb....|Upon moving into ...|    1147.0|https://occ-0-148...|https://m.media-a...|                NULL|        NULL|\n",
            "|              Moxie|Animation, Short,...|Social Issue Dram...|         English|          Movie|             8.1|Lithuania,Poland,...|    1-2 hour|  Stephen Irwin|                NULL|        Ragga Gudrun|       NULL|       6.3|                 NULL|            NULL|           NULL|                 4.0|      NULL| 22 Sep 2011|          2021-03-04|                NULL|https://www.netfl...|https://www.imdb....|Inspired by her m...|      63.0|https://occ-0-403...|https://m.media-a...|                NULL|        NULL|\n",
            "+-------------------+--------------------+--------------------+----------------+---------------+----------------+--------------------+------------+---------------+--------------------+--------------------+-----------+----------+---------------------+----------------+---------------+--------------------+----------+------------+--------------------+--------------------+--------------------+--------------------+--------------------+----------+--------------------+--------------------+--------------------+------------+\n",
            "only showing top 5 rows\n",
            "\n"
          ]
        }
      ]
    },
    {
      "cell_type": "markdown",
      "metadata": {
        "id": "dVohq7m6bLSA"
      },
      "source": [
        "## What is the maximum and average of the overall hidden gem score?"
      ]
    },
    {
      "cell_type": "code",
      "execution_count": 13,
      "metadata": {
        "colab": {
          "base_uri": "https://localhost:8080/",
          "height": 0
        },
        "id": "XDdl0r9pbLSA",
        "outputId": "592e805d-256e-4b37-c17a-88dc557cd56f"
      },
      "outputs": [
        {
          "output_type": "stream",
          "name": "stdout",
          "text": [
            "+---------------------+---------------------+\n",
            "|max(Hidden Gem Score)|avg(Hidden Gem Score)|\n",
            "+---------------------+---------------------+\n",
            "|                  9.8|    5.937551386501226|\n",
            "+---------------------+---------------------+\n",
            "\n"
          ]
        }
      ],
      "source": [
        "from pyspark.sql.functions import max, avg\n",
        "\n",
        "df.select(max('Hidden Gem Score'), avg('Hidden Gem Score')).show()"
      ]
    },
    {
      "cell_type": "markdown",
      "metadata": {
        "id": "ez-PJ2xIbLSA"
      },
      "source": [
        "## How many movies that are available in Korea?"
      ]
    },
    {
      "cell_type": "code",
      "execution_count": 14,
      "metadata": {
        "colab": {
          "base_uri": "https://localhost:8080/",
          "height": 0
        },
        "id": "WLILrtjLbLSA",
        "outputId": "1fb322a5-fb60-4134-b392-2bfbec85acb7"
      },
      "outputs": [
        {
          "output_type": "execute_result",
          "data": {
            "text/plain": [
              "735"
            ]
          },
          "metadata": {},
          "execution_count": 14
        }
      ],
      "source": [
        "from pyspark.sql.functions import col\n",
        "\n",
        "df.filter(col('Languages').contains('Korean')).count()"
      ]
    },
    {
      "cell_type": "markdown",
      "metadata": {
        "id": "ZMtKl0w9bLSA"
      },
      "source": [
        "## Which director has the highest average hidden gem score?"
      ]
    },
    {
      "cell_type": "code",
      "execution_count": 15,
      "metadata": {
        "colab": {
          "base_uri": "https://localhost:8080/",
          "height": 0
        },
        "id": "jFssLJZXbLSB",
        "outputId": "10184710-ad71-4930-be4c-600d2280b068"
      },
      "outputs": [
        {
          "output_type": "stream",
          "name": "stdout",
          "text": [
            "+--------------------+---------+\n",
            "|            Director|avg_score|\n",
            "+--------------------+---------+\n",
            "|         Dorin Marcu|      9.8|\n",
            "|    Fernando Escovar|      9.6|\n",
            "|          Rosa Russo|      9.5|\n",
            "|         Kate Brooks|      9.5|\n",
            "|Vincent Bal, Kenn...|      9.5|\n",
            "|    Ignacio Busquier|      9.5|\n",
            "|Bill Butler, Will...|      9.5|\n",
            "|     Charles Officer|      9.4|\n",
            "|           Ryan Sage|      9.3|\n",
            "|   Frederico Machado|      9.3|\n",
            "|    Ashish R. Shukla|      9.3|\n",
            "|         Lisa France|      9.3|\n",
            "|Jacqui Morris, Da...|      9.3|\n",
            "|    Jan Philipp Weyl|      9.3|\n",
            "|      Aundre Johnson|      9.3|\n",
            "|        R.J. Bentler|      9.3|\n",
            "|     Rabeah Ghaffari|      9.3|\n",
            "|          Oh Jin-Koo|      9.3|\n",
            "|        Shinkyu Choi|      9.3|\n",
            "|         André Canto|      9.2|\n",
            "+--------------------+---------+\n",
            "only showing top 20 rows\n",
            "\n"
          ]
        }
      ],
      "source": [
        "df.groupBy(\"Director\").agg(avg(\"Hidden Gem Score\").alias(\"avg_score\")).orderBy(\"avg_score\", ascending=False).show()"
      ]
    },
    {
      "cell_type": "markdown",
      "metadata": {
        "id": "MRbQrR8ObLSB"
      },
      "source": [
        "## How many genres are there in the dataset?"
      ]
    },
    {
      "cell_type": "code",
      "execution_count": 16,
      "metadata": {
        "colab": {
          "base_uri": "https://localhost:8080/",
          "height": 0
        },
        "id": "ZqxT7-5ybLSB",
        "outputId": "b57bee9b-b389-4617-8291-ef0ed4dc0435"
      },
      "outputs": [
        {
          "output_type": "execute_result",
          "data": {
            "text/plain": [
              "28"
            ]
          },
          "metadata": {},
          "execution_count": 16
        }
      ],
      "source": [
        "from pyspark.sql.functions import split, explode\n",
        "df.select(explode(split(\"Genre\", \", \")).alias(\"genre\")).distinct().count()"
      ]
    }
  ],
  "metadata": {
    "kernelspec": {
      "display_name": "Python 3 (ipykernel)",
      "language": "python",
      "name": "python3"
    },
    "language_info": {
      "codemirror_mode": {
        "name": "ipython",
        "version": 3
      },
      "file_extension": ".py",
      "mimetype": "text/x-python",
      "name": "python",
      "nbconvert_exporter": "python",
      "pygments_lexer": "ipython3",
      "version": "3.9.13"
    },
    "toc": {
      "base_numbering": 1,
      "nav_menu": {},
      "number_sections": true,
      "sideBar": true,
      "skip_h1_title": false,
      "title_cell": "Table of Contents",
      "title_sidebar": "Contents",
      "toc_cell": false,
      "toc_position": {},
      "toc_section_display": true,
      "toc_window_display": false
    },
    "varInspector": {
      "cols": {
        "lenName": 16,
        "lenType": 16,
        "lenVar": 40
      },
      "kernels_config": {
        "python": {
          "delete_cmd_postfix": "",
          "delete_cmd_prefix": "del ",
          "library": "var_list.py",
          "varRefreshCmd": "print(var_dic_list())"
        },
        "r": {
          "delete_cmd_postfix": ") ",
          "delete_cmd_prefix": "rm(",
          "library": "var_list.r",
          "varRefreshCmd": "cat(var_dic_list()) "
        }
      },
      "types_to_exclude": [
        "module",
        "function",
        "builtin_function_or_method",
        "instance",
        "_Feature"
      ],
      "window_display": false
    },
    "colab": {
      "provenance": []
    }
  },
  "nbformat": 4,
  "nbformat_minor": 0
}