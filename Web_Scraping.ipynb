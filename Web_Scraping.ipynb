{
  "cells": [
    {
      "cell_type": "markdown",
      "metadata": {
        "id": "LTrGnEWtkTlP"
      },
      "source": [
        "# Assignment: Extracting Static WebPage\n",
        "\n",
        "Extract information about “วันพระ” for 3 years from:\n",
        "- https://www.myhora.com/ปฏิทิน/วันพระ-พ.ศ.2565.aspx\n",
        "- https://www.myhora.com/ปฏิทิน/วันพระ-พ.ศ.2566.aspx\n",
        "- https://www.myhora.com/ปฏิทิน/วันพระ-พ.ศ.2567.aspx\n"
      ]
    },
    {
      "cell_type": "markdown",
      "metadata": {
        "id": "g0Vvl7khkTlS"
      },
      "source": [
        "Note that you can use dateparse package to parse Thai date.  First, we will have to install the package, this is for Google Colab users.  Otherwise, installing via command line is recommended (pip or conda)."
      ]
    },
    {
      "cell_type": "code",
      "execution_count": 1,
      "metadata": {
        "scrolled": true,
        "id": "iGqjNOdIkTlS",
        "colab": {
          "base_uri": "https://localhost:8080/"
        },
        "outputId": "a6704e66-8a99-4568-b951-fdbf95bfd75a"
      },
      "outputs": [
        {
          "output_type": "stream",
          "name": "stdout",
          "text": [
            "Collecting dateparser\n",
            "  Downloading dateparser-1.2.0-py2.py3-none-any.whl (294 kB)\n",
            "\u001b[?25l     \u001b[90m━━━━━━━━━━━━━━━━━━━━━━━━━━━━━━━━━━━━━━━━\u001b[0m \u001b[32m0.0/295.0 kB\u001b[0m \u001b[31m?\u001b[0m eta \u001b[36m-:--:--\u001b[0m\r\u001b[2K     \u001b[91m━━━━━━━━━━━━━━━━━━━\u001b[0m\u001b[90m╺\u001b[0m\u001b[90m━━━━━━━━━━━━━━━━━━━━\u001b[0m \u001b[32m143.4/295.0 kB\u001b[0m \u001b[31m4.2 MB/s\u001b[0m eta \u001b[36m0:00:01\u001b[0m\r\u001b[2K     \u001b[90m━━━━━━━━━━━━━━━━━━━━━━━━━━━━━━━━━━━━━━━━\u001b[0m \u001b[32m295.0/295.0 kB\u001b[0m \u001b[31m4.4 MB/s\u001b[0m eta \u001b[36m0:00:00\u001b[0m\n",
            "\u001b[?25hRequirement already satisfied: python-dateutil in /usr/local/lib/python3.10/dist-packages (from dateparser) (2.8.2)\n",
            "Requirement already satisfied: pytz in /usr/local/lib/python3.10/dist-packages (from dateparser) (2023.4)\n",
            "Requirement already satisfied: regex!=2019.02.19,!=2021.8.27 in /usr/local/lib/python3.10/dist-packages (from dateparser) (2023.12.25)\n",
            "Requirement already satisfied: tzlocal in /usr/local/lib/python3.10/dist-packages (from dateparser) (5.2)\n",
            "Requirement already satisfied: six>=1.5 in /usr/local/lib/python3.10/dist-packages (from python-dateutil->dateparser) (1.16.0)\n",
            "Installing collected packages: dateparser\n",
            "Successfully installed dateparser-1.2.0\n"
          ]
        }
      ],
      "source": [
        "import sys\n",
        "IN_COLAB = 'google.colab' in sys.modules\n",
        "if IN_COLAB:\n",
        "    %pip install dateparser"
      ]
    },
    {
      "cell_type": "code",
      "execution_count": 2,
      "metadata": {
        "id": "W7efsLzbkTlT"
      },
      "outputs": [],
      "source": [
        "import dateparser"
      ]
    },
    {
      "cell_type": "markdown",
      "metadata": {
        "id": "w2R6C0JckTlT"
      },
      "source": [
        "To convert from thai text date string, we will use the parse method.  Note that the parse method assumes the BC year, not BE.  Thus, we will have to subtract 543 from the year.  In addition, weekday() returns day of week with 0=Monday, ..., 6=Sunday."
      ]
    },
    {
      "cell_type": "code",
      "execution_count": 3,
      "metadata": {
        "id": "Wc8I2ae6kTlU",
        "colab": {
          "base_uri": "https://localhost:8080/"
        },
        "outputId": "1f6649f6-4400-4338-9d7c-4bd713c455df"
      },
      "outputs": [
        {
          "output_type": "stream",
          "name": "stdout",
          "text": [
            "2563-01-17 00:00:00\n",
            "0\n",
            "2020-01-17 00:00:00\n",
            "4\n"
          ]
        }
      ],
      "source": [
        "dt = dateparser.parse('วันศุกร์ที่ 17 มกราคม 2563')\n",
        "\n",
        "# this will print out weekday == 0 (Monday)\n",
        "print(dt)\n",
        "print(dt.weekday())\n",
        "\n",
        "# this will print out weekday == 4 (Friday)\n",
        "dt = dt.replace(year=dt.year-543)\n",
        "print(dt)\n",
        "print(dt.weekday())"
      ]
    },
    {
      "cell_type": "code",
      "execution_count": 4,
      "metadata": {
        "id": "ebetUOKBkTlU",
        "colab": {
          "base_uri": "https://localhost:8080/"
        },
        "outputId": "60199c60-64d8-4173-df13-44e9378bb223"
      },
      "outputs": [
        {
          "output_type": "stream",
          "name": "stdout",
          "text": [
            "2021-09-21 00:00:00\n",
            "1\n"
          ]
        }
      ],
      "source": [
        "dt = dateparser.parse('วันเสาร์ที่ 21 กันยายน 2564')\n",
        "dt = dt.replace(year=dt.year-543)\n",
        "print(dt)\n",
        "print(dt.weekday())"
      ]
    },
    {
      "cell_type": "markdown",
      "metadata": {
        "id": "yP8SyqsWkTlU"
      },
      "source": [
        "Count the distribution of number of week days that are “วันพระ” for all three years and answer the following questions:"
      ]
    },
    {
      "cell_type": "markdown",
      "metadata": {
        "id": "-rXTBOWdkTlV"
      },
      "source": [
        "## How many วันพระ in total (of 3 years)?"
      ]
    },
    {
      "cell_type": "code",
      "execution_count": 16,
      "metadata": {
        "id": "leZAU1GXkTlV",
        "colab": {
          "base_uri": "https://localhost:8080/"
        },
        "outputId": "40fa3fd6-a7c5-4d29-a037-024caece1b68"
      },
      "outputs": [
        {
          "output_type": "stream",
          "name": "stdout",
          "text": [
            "Number of holy days: 152\n"
          ]
        }
      ],
      "source": [
        "import requests\n",
        "from bs4 import BeautifulSoup\n",
        "\n",
        "def get_holy_day(year):\n",
        "    url = f'https://www.myhora.com/ปฏิทิน/วันพระ-พ.ศ.{year}.aspx'\n",
        "    res = requests.get(url)\n",
        "    soup = BeautifulSoup(res.text, 'html.parser')\n",
        "    holy_day = []\n",
        "    # find class \"bud-day\"\n",
        "    for bud_day in soup.find_all(class_='bud-day'):\n",
        "        # select first \"bud_day_col\" class\n",
        "        bud_day_col = bud_day.find(class_='bud-day-col')\n",
        "\n",
        "        holy_day.append(dateparser.parse(bud_day_col.text).replace(year=year-543))\n",
        "    return holy_day\n",
        "\n",
        "holy_day_2565 = get_holy_day(2565)\n",
        "# print(holy_day_2565)\n",
        "\n",
        "holy_day_2566 = get_holy_day(2566)\n",
        "# print(holy_day_2566)\n",
        "\n",
        "holy_day_2567 = get_holy_day(2567)\n",
        "# print(holy_day_2567)\n",
        "\n",
        "# all holy days\n",
        "holy_day_all = holy_day_2565 + holy_day_2566 + holy_day_2567\n",
        "print(\"Number of holy days:\", len(holy_day_all))"
      ]
    },
    {
      "cell_type": "markdown",
      "metadata": {
        "id": "pjhrVo4QkTlV"
      },
      "source": [
        "## How many days in total (of 3 years) that วันพระ is Monday?"
      ]
    },
    {
      "cell_type": "code",
      "execution_count": 21,
      "metadata": {
        "id": "ba2HgPBOkTlV",
        "colab": {
          "base_uri": "https://localhost:8080/"
        },
        "outputId": "27a76eea-d0d5-4f48-975b-8898cdd37269"
      },
      "outputs": [
        {
          "output_type": "stream",
          "name": "stdout",
          "text": [
            "21\n"
          ]
        }
      ],
      "source": [
        "day_holy_day = []\n",
        "for i in range(7):\n",
        "\tday_holy_day.append([])\n",
        "\tfor day in holy_day_all:\n",
        "\t\tif day.weekday() == i:\n",
        "\t\t\tday_holy_day[i].append(day)\n",
        "\n",
        "print(len(day_holy_day[0]))"
      ]
    },
    {
      "cell_type": "markdown",
      "metadata": {
        "id": "APy8_U1lkTlV"
      },
      "source": [
        "## Which day of the week that has the minimum number of วันพระ?"
      ]
    },
    {
      "cell_type": "code",
      "execution_count": 32,
      "metadata": {
        "id": "N4HF0K40kTlV",
        "colab": {
          "base_uri": "https://localhost:8080/"
        },
        "outputId": "60b50d6f-fedd-43ed-cf7a-f339baa90689"
      },
      "outputs": [
        {
          "output_type": "stream",
          "name": "stdout",
          "text": [
            "Day Tuesday has the minimum number of holy days: 20 days\n"
          ]
        }
      ],
      "source": [
        "min = 1e9\n",
        "\n",
        "for i in range(7):\n",
        "\tif len(day_holy_day[i]) < min:\n",
        "\t\tmin = len(day_holy_day[i])\n",
        "\t\tmin_day = i\n",
        "\n",
        "print(f\"Day {days[min_day]} has the minimum number of holy days: {min} days\")"
      ]
    },
    {
      "cell_type": "markdown",
      "metadata": {
        "id": "Z0aOUx1UkTlV"
      },
      "source": [
        "## Which day of the week that has the maximum number of วันพระ?"
      ]
    },
    {
      "cell_type": "code",
      "execution_count": 33,
      "metadata": {
        "id": "skzsVKyikTlV",
        "colab": {
          "base_uri": "https://localhost:8080/"
        },
        "outputId": "91862b74-4cf4-4fcb-dd5e-5ea6752ee466"
      },
      "outputs": [
        {
          "output_type": "stream",
          "name": "stdout",
          "text": [
            "Day Sunday has the maximum number of holy days: 24 days\n"
          ]
        }
      ],
      "source": [
        "max = 0\n",
        "\n",
        "for i in range(7):\n",
        "\tif len(day_holy_day[i]) > max:\n",
        "\t\tmax = len(day_holy_day[i])\n",
        "\t\tmax_day = i\n",
        "\n",
        "print(f\"Day {days[max_day]} has the maximum number of holy days: {max} days\")"
      ]
    }
  ],
  "metadata": {
    "kernelspec": {
      "display_name": "Python 3 (ipykernel)",
      "language": "python",
      "name": "python3"
    },
    "language_info": {
      "codemirror_mode": {
        "name": "ipython",
        "version": 3
      },
      "file_extension": ".py",
      "mimetype": "text/x-python",
      "name": "python",
      "nbconvert_exporter": "python",
      "pygments_lexer": "ipython3",
      "version": "3.11.4"
    },
    "toc": {
      "base_numbering": 1,
      "nav_menu": {},
      "number_sections": true,
      "sideBar": true,
      "skip_h1_title": false,
      "title_cell": "Table of Contents",
      "title_sidebar": "Contents",
      "toc_cell": false,
      "toc_position": {},
      "toc_section_display": true,
      "toc_window_display": false
    },
    "varInspector": {
      "cols": {
        "lenName": 16,
        "lenType": 16,
        "lenVar": 40
      },
      "kernels_config": {
        "python": {
          "delete_cmd_postfix": "",
          "delete_cmd_prefix": "del ",
          "library": "var_list.py",
          "varRefreshCmd": "print(var_dic_list())"
        },
        "r": {
          "delete_cmd_postfix": ") ",
          "delete_cmd_prefix": "rm(",
          "library": "var_list.r",
          "varRefreshCmd": "cat(var_dic_list()) "
        }
      },
      "types_to_exclude": [
        "module",
        "function",
        "builtin_function_or_method",
        "instance",
        "_Feature"
      ],
      "window_display": false
    },
    "colab": {
      "provenance": []
    }
  },
  "nbformat": 4,
  "nbformat_minor": 0
}